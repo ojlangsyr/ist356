{
 "cells": [
  {
   "cell_type": "markdown",
   "metadata": {},
   "source": [
    "# API 4-4: REST APIs \n",
    "\n",
    "Hosting your own APIs with FastAPI\n"
   ]
  },
  {
   "cell_type": "markdown",
   "metadata": {},
   "source": [
    "\n",
    "## API vs Module \n",
    "\n",
    "\n",
    "You might be asking why host an API versus just writing a module? After all they have similar functionality of sharing and interacting with code and data.\n",
    "\n",
    "\n",
    "        def do_something_sensitive():\n",
    "        # do something sensitive\n",
    "        # if I import this, I can see this code\n",
    "        return \"sensitive data\"\n",
    "\n",
    "        VS\n",
    "\n",
    "        /api/do_something_sensitive\n",
    "\n",
    "\n",
    "There are some key differences between an API and a module:\n",
    "\n",
    "1. You can hide the implementation details of your code with an API. Unlike a module, people only see the interface, not way to code was implemented.\n",
    "2. An API can be accessed over the internet, while a module is typically used locally.\n",
    "3. API's work across different programming languages, while modules are restricted to the language they were written in (Python).\n",
    "4. Cede is hosted as a web service, meaning it can be accessed from anywhere, anytime with an internet connection.\n",
    "\n",
    "\n",
    "### Why API?\n",
    "\n",
    "- Break up complex applications into smaller, more manageable pieces\n",
    "- Allow different parts of an application to be developed independently\n",
    "- Allow different parts of an application to be developed in different languages\n"
   ]
  },
  {
   "cell_type": "markdown",
   "metadata": {},
   "source": [
    "## Fast API\n",
    "\n",
    "[https://fastapi.tiangolo.com/](https://fastapi.tiangolo.com/)\n",
    "\n",
    "- Fast API is a easy to learn Python framework for building API's. \n",
    "- It has a lot of features that make it a great choice for building API's, but \n",
    "- we will focus keeping it simple so that you can understand the benefits of building an API.\n",
    "\n",
    "\n",
    "# Fast API Features\n",
    "\n",
    "- Live edit similar to Streamlit. You can edit your code and see the changes in real time.\n",
    "- Highly opinionated. It has a lot of features that are built in but you must do it the \"FastAPI way.\"\n",
    "- Easy to understand the code. \n",
    "- Auto-generates API documentation Swagger UI."
   ]
  },
  {
   "cell_type": "code",
   "execution_count": 2,
   "metadata": {},
   "outputs": [],
   "source": [
    "# fasthello.py\n",
    "\n",
    "from fastapi import FastAPI\n",
    "\n",
    "app = FastAPI()  # Create a FastAPI instance\n",
    "\n",
    "@app.get(\"/\")    # Define a route\n",
    "def root():      # Define a function that will be called when the route is requested\n",
    "    return {\"message\": \"Hello World\"} # Serializes to JSON automatically\n",
    "\n",
    "\n",
    "## http://localhost:8000/docs"
   ]
  },
  {
   "cell_type": "markdown",
   "metadata": {},
   "source": [
    "## Query String Path, and Header Parameters\n",
    "\n",
    "Fast API makes it easy to add parameters to your API. \n",
    "\n",
    "- Python type hints are used to define the type of the parameter (int, str, etc.)\n",
    "- The `Query()` function is used to define a query parameter\n",
    "- The `Header()` function is used to define a header parameter\n",
    "- Path parameters are defined by including the parameter in the URL path\n"
   ]
  },
  {
   "cell_type": "code",
   "execution_count": null,
   "metadata": {},
   "outputs": [],
   "source": [
    "# fastparams.py\n",
    "\n",
    "from fastapi import FastAPI, Header, Query\n",
    "\n",
    "app = FastAPI()\n",
    "\n",
    "@app.get(\"/calculator/{operator}\")  # <== path parameter\n",
    "def read_item(operator: str, \n",
    "              a: str = Query(),     # <== query parameter\n",
    "              b: int = Query(),     # <== query parameter\n",
    "              h: str = Header()):   # <== header parameter\n",
    "    if operator == \"add\":\n",
    "        result = a + b\n",
    "    elif operator == \"sub\":\n",
    "        result = a - b\n",
    "    elif operator == \"mul\":\n",
    "        result = a * b\n",
    "    elif operator == \"div\":\n",
    "        result = a / b\n",
    "    return {\n",
    "        \"operator\": operator,\n",
    "        \"a\": a,\n",
    "        \"b\": b,\n",
    "        \"result\": result,\n",
    "        \"h\": h\n",
    "    }"
   ]
  },
  {
   "cell_type": "markdown",
   "metadata": {},
   "source": [
    "## Challenge 4-4-1\n",
    "\n",
    "Design and build an API to search for  flights (depart/arrive) by Airport Code. \n",
    "\n",
    "Use this dataset to get the source of your flights:\n",
    "\n",
    "https://raw.githubusercontent.com/mafudge/datasets/refs/heads/master/flights/sample-flights.csv\n",
    "\n",
    "Here's some examples of the the API endpoint you need to build:\n",
    "\n",
    "```\n",
    "/api/flights/search?type=dep&code=OKA\n",
    "/api/flights/search?type=arr&code=KEY\n",
    "```\n",
    "\n",
    "Test your API using the Swagger UI."
   ]
  },
  {
   "cell_type": "markdown",
   "metadata": {},
   "source": [
    "## Handling Errors\n",
    "\n",
    "FastAPI makes it easy to handle errors. Use the `HTTPException` class to raise an error with a specific status code and message.\n",
    "\n",
    "Remember status codes are a way to communicate the status of a request to the client. They are a design contract which means you SHOULD use them as they are EXPECTED, but they are not REQURED.\n",
    "\n",
    "[https://developer.mozilla.org/en-US/docs/Web/HTTP/Status](https://developer.mozilla.org/en-US/docs/Web/HTTP/Status)\n"
   ]
  },
  {
   "cell_type": "code",
   "execution_count": null,
   "metadata": {},
   "outputs": [],
   "source": [
    "# fastparams2.py\n",
    "\n",
    "from fastapi import FastAPI, Header, Query, HTTPException\n",
    "\n",
    "app = FastAPI()\n",
    "\n",
    "@app.get(\"/calculator/{operator}\")  # <== path parameter\n",
    "def read_item(operator: str, \n",
    "              a: str = Query(),     # <== query parameter\n",
    "              b: int = Query(),     # <== query parameter\n",
    "              h: str = Header()):   # <== header parameter\n",
    "    if operator == \"add\":\n",
    "        result = a + b\n",
    "    elif operator == \"sub\":\n",
    "        result = a - b\n",
    "    elif operator == \"mul\":\n",
    "        result = a * b\n",
    "    elif operator == \"div\":\n",
    "        result = a / b\n",
    "    else:\n",
    "        raise HTTPException(status_code=404, detail=\"Operator not found. should be: add, sub, mul, div\")\n",
    "    \n",
    "    return {\n",
    "        \"operator\": operator,\n",
    "        \"a\": a,\n",
    "        \"b\": b,\n",
    "        \"result\": result,\n",
    "        \"h\": h\n",
    "    }"
   ]
  },
  {
   "cell_type": "markdown",
   "metadata": {},
   "source": [
    "## Sending data in the request body\n",
    "\n",
    "- Use the `Body()` function to define a request body parameter\n",
    "- These are added to POST/PUT requests in JSON format."
   ]
  },
  {
   "cell_type": "code",
   "execution_count": null,
   "metadata": {},
   "outputs": [],
   "source": [
    "# fastbody.py\n",
    "\n",
    "from fastapi import FastAPI, Body()\n",
    "\n",
    "app = FastAPI()\n",
    "\n",
    "friends = []\n",
    "\n",
    "@app.post(\"/friends\")\n",
    "def create_friend(name: str = Body(), age: int = Body()):\n",
    "    '''\n",
    "    Add a new friend to the list of friends and return the list each time a new friend is added\n",
    "    ''' \n",
    "    friend = {\"name\": name, \"age\": age}\n",
    "    friends.append(friend)\n",
    "    return friends"
   ]
  },
  {
   "cell_type": "markdown",
   "metadata": {},
   "source": [
    "## API Wrappers\n",
    "\n",
    "A common use case for API's is to wrap an existing API to make it easier to use. The IoT Portal is a good example of this.\n",
    "\n",
    "API Wrappers are common with AI/ML models. We want to control access and restrict behavior of the AI and the best way to do that is wrap a public AI API in your own API. "
   ]
  },
  {
   "cell_type": "markdown",
   "metadata": {},
   "source": [
    "## Challenge 4-4-2\n",
    "\n",
    "TLDR (Too Long Didn't Read) bot. \n",
    "\n",
    "Let's design and build an API to wrap the OpenAI API in the IoT portal. We will build a tldr bot that summarizes a body of text in a short / simple way. \n",
    "\n",
    "Things to figure out:\n",
    "\n",
    "- What should the endpoint name be?\n",
    "- Method (GET, POST, PUT, DELETE)?\n",
    "- What parameters should be passed?\n",
    "- What should the response look like?\n",
    "- What does the OpenAI API prompt look like? \n",
    "- What is the system prompt?\n",
    "- Few shots?\n",
    "\n",
    "NOTE: \n"
   ]
  },
  {
   "cell_type": "markdown",
   "metadata": {},
   "source": [
    "## Building a CRUD API\n",
    "\n",
    "- CRUD stands for Create, Read, Update, Delete\n",
    "- Its a common pattern for building non-public data APIs\n",
    "- We use the HTTP methods POST (Create), GET (Read), PUT (Update), DELETE to perform these operations\n",
    "\n",
    "**NOTE:** to perform CRUD, we need a business key or natural key to identify the item. \n",
    "\n",
    "In the example below, we use the `name`  of our friend. Not the best, but workable for our example. \n",
    "\n",
    "The best practice for API design is to return the object that was created, updated, or deleted. This allows the client to know the state of the object after the operation.\n",
    "\n",
    "See `fastcrud.py` for an example of a CRUD API."
   ]
  },
  {
   "cell_type": "markdown",
   "metadata": {},
   "source": [
    "## TinyDb - Persistent CRUD Storage\n",
    "\n",
    "TinyDB is a lightweight document oriented database optimized for your happiness. It's written in pure Python and has no external dependencies. \n",
    "\n",
    "It gives you CRUD over a JSON file.\n",
    "\n",
    "[https://tinydb.readthedocs.io/en/latest/](https://tinydb.readthedocs.io/en/latest/)\n"
   ]
  },
  {
   "cell_type": "code",
   "execution_count": 9,
   "metadata": {},
   "outputs": [
    {
     "name": "stdout",
     "output_type": "stream",
     "text": [
      "CREATE Alice, Bob, Charlie\n",
      "PEOPLE [{'name': 'Alice', 'age': 25, 'hometown': 'Seattle'}, {'name': 'Bob', 'age': 22, 'hometown': 'Portland'}, {'name': 'Charlie', 'age': 30, 'hometown': 'San Francisco'}]\n",
      "UPDATE Bob\n",
      "PEOPLE [{'name': 'Alice', 'age': 25, 'hometown': 'Seattle'}, {'name': 'Bob', 'age': 23, 'hometown': 'New York'}, {'name': 'Charlie', 'age': 30, 'hometown': 'San Francisco'}]\n",
      "DELETE Alice\n",
      "PEOPLE [{'name': 'Bob', 'age': 23, 'hometown': 'New York'}, {'name': 'Charlie', 'age': 30, 'hometown': 'San Francisco'}]\n",
      "PEOPLE\n",
      "Bob 23 New York\n",
      "Charlie 30 San Francisco\n"
     ]
    }
   ],
   "source": [
    "from tinydb import TinyDB, Query\n",
    "\n",
    "# Initialize TinyDB\n",
    "db = TinyDB('db.json')\n",
    "db.truncate()  #start over\n",
    "\n",
    "\n",
    "# Create documents\n",
    "print(\"CREATE Alice, Bob, Charlie\")\n",
    "db.insert({'name': 'Alice', 'age': 25, 'hometown': 'Seattle'})\n",
    "db.insert({'name': 'Bob', 'age': 22, 'hometown': 'Portland'})\n",
    "db.insert({'name': 'Charlie', 'age': 30, 'hometown': 'San Francisco'})\n",
    "\n",
    "# get all people\n",
    "print(\"PEOPLE\", db.all())\n",
    "\n",
    "# update bob\n",
    "Person = Query()\n",
    "print(\"UPDATE Bob\")\n",
    "db.update({'age': 23, 'hometown' : 'New York'}, Person.name == 'Bob')\n",
    "print(\"PEOPLE\", db.all())\n",
    "\n",
    "# delete alice\n",
    "print(\"DELETE Alice\")\n",
    "db.remove(Person.name == 'Alice')\n",
    "print(\"PEOPLE\", db.all())\n",
    "\n",
    "# loop\n",
    "print(\"PEOPLE\")\n",
    "for person in db:\n",
    "    print(person['name'], person['age'], person['hometown'])\n",
    "\n"
   ]
  },
  {
   "cell_type": "markdown",
   "metadata": {},
   "source": []
  },
  {
   "cell_type": "markdown",
   "metadata": {},
   "source": [
    "## Challenge 4-4-3\n",
    "\n",
    "Putting it all together so far.\n",
    "\n",
    "Take your TLDR bot from 4-4-2 and build a UI for it in streamlit. This can be a simple question / answer user interface. You do not need to make it conversational."
   ]
  }
 ],
 "metadata": {
  "kernelspec": {
   "display_name": "Python 3",
   "language": "python",
   "name": "python3"
  },
  "language_info": {
   "codemirror_mode": {
    "name": "ipython",
    "version": 3
   },
   "file_extension": ".py",
   "mimetype": "text/x-python",
   "name": "python",
   "nbconvert_exporter": "python",
   "pygments_lexer": "ipython3",
   "version": "3.12.6"
  }
 },
 "nbformat": 4,
 "nbformat_minor": 2
}
