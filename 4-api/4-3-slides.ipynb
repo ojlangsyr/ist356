{
 "cells": [
  {
   "cell_type": "markdown",
   "metadata": {},
   "source": [
    "# API 4-3: REST APIs\n",
    "\n",
    "Open AI, LLM API's, OAUTH2 Flows"
   ]
  },
  {
   "cell_type": "markdown",
   "metadata": {},
   "source": [
    "## Open AI API\n",
    "\n",
    "\n",
    "Artifical Intelligence has become more accessible thanks to REST API's. It is not possible to run most of these models on your local machine due to the computational power required. Companies like Open AI, Anthropic, and Perplexity have made it possible to access their models through Web API's. This has opened up a new world of possibilities for developers to build applications that can understand and generate human-like text, create art / music, and solve puzzles.\n",
    "\n",
    "In this course will use Open AI's API to demonstrate some of these capabilities. \n",
    "\n",
    "We will use the Open AI API in the IoT Portal. This will allow you to use the API without having to pay for it.\n",
    "\n",
    "\n",
    "## Text Generation\n",
    "\n",
    "- Text generation is the process of generating text using a model that has been trained on a large corpus of text. We provide the model a **text prompt** consisting of a question, insructions, examples, or both. The model then generates a response based on the prompt."
   ]
  },
  {
   "cell_type": "code",
   "execution_count": 5,
   "metadata": {},
   "outputs": [
    {
     "name": "stdout",
     "output_type": "stream",
     "text": [
      "I can assist with a variety of tasks, including:\n",
      "\n",
      "1. **Answering Questions:** Providing information on a wide range of topics, from science and history to pop culture.\n",
      "2. **Writing Assistance:** Helping with essays, reports, creative writing, and more.\n",
      "3. **Language Translation:** Translating text between multiple languages.\n",
      "4. **Learning Support:** Explaining concepts, providing study tips, and helping with homework.\n",
      "5. **Programming Help:** Assisting with coding questions and debugging.\n",
      "6. **Idea Generation:** Brainstorming ideas for projects, stories, or other creative endeavors.\n",
      "7. **Conversation Practice:** Engaging in dialogue to help improve language skills or just for casual conversation.\n",
      "8. **Recommendations:** Suggesting books, movies, or other media based on your interests.\n",
      "\n",
      "If you have a specific task in mind, feel free to ask!\n"
     ]
    }
   ],
   "source": [
    "import requests\n",
    "\n",
    "api_key = \"GETYOUROWNKEY\"\n",
    "uri = \"https://cent.ischool-iot.net/api/openai/generate\"\n",
    "prompt = \"What are your capabilities?\"\n",
    "\n",
    "data = { \"query\": prompt }\n",
    "response = requests.post(uri, data=data, headers={\"x-api-key\": api_key})\n",
    "response.raise_for_status()\n",
    "result = response.json()\n",
    "print(result)\n"
   ]
  },
  {
   "cell_type": "markdown",
   "metadata": {},
   "source": [
    "## What is Going On Here?\n",
    "\n",
    "Open AI is a Large Language Model. It is capable of generating text based on a prompt. While it might appear smart or intelligent, it is important to remember that it is just codethat has been trained on a huge large corpus of text. The model does not have any understanding of the world or the text it generates, its just generating output based on the input and the text is was trained on!\n",
    "\n",
    "\n",
    "## Large Language Model Capabilities\n",
    "\n",
    "- **Question Answering**: Ask a question and the model will generate an answer (provided its in the corpus).\n",
    "- **Text Completion**: Provide a sentence and the model will complete it.\n",
    "- **Text Summarization**: Provide a prompt and the model will summarize the text.\n",
    "- **Text Classification**: Provide a prompt and the model will classify the text.\n",
    "- **Text Translation**: Provide a prompt and the model will translate the text.\n",
    "- **Text Sentiment Analysis**: Provide a prompt and the model will analyze the sentiment of the text."
   ]
  },
  {
   "cell_type": "code",
   "execution_count": 8,
   "metadata": {},
   "outputs": [
    {
     "name": "stdout",
     "output_type": "stream",
     "text": [
      "QUESTION-ANSWERING: What is the capital of France? ==> The capital of France is Paris.\n",
      "\n",
      "\n",
      "TEXT-COMPLETION: Finish this sentence: 'Once upon a time _____' ==> Once upon a time, in a village nestled between towering mountains, there lived a curious girl named Elara who dreamed of adventures beyond the horizon.\n",
      "\n",
      "\n",
      "TEXT-SUMMARIZATION: Explain this: 'The best revenge is to be unlike him who performed the injury.' ==> The phrase \"The best revenge is to be unlike him who performed the injury\" suggests that the most effective way to respond to someone who has wronged you is not through retaliation or seeking revenge in kind, but rather by choosing to rise above their behavior. \n",
      "\n",
      "By not stooping to the level of the person who hurt you, you demonstrate strength of character and moral integrity. Instead of perpetuating a cycle of negativity and harm, you can focus on being a better person and maintaining your values. This approach not only helps you heal and move on but also highlights the shortcomings of the person who wronged you, showing that their actions do not define you. Essentially, it advocates for a response rooted in personal growth and ethical behavior rather than revenge.\n",
      "\n",
      "\n",
      "TEXT-CLASSIFICATION: New York is to Yankees as Boston is to _______ ==> Red Sox.\n",
      "\n",
      "\n",
      "TEXT-SENTIMENT: Is this a positive or negative review? 'I loved this movie even tho it scared me!' ==> That's a positive review! The phrase \"I loved this movie\" indicates enjoyment, and even though it mentions being scared, it suggests that the fear contributed to the overall experience rather than detracted from it.\n",
      "\n",
      "\n",
      "TEXT-TRANSLATION: Translate this to French: 'Hello, how are you?' ==> \"Bonjour, comment ça va ?\"\n",
      "\n",
      "\n"
     ]
    }
   ],
   "source": [
    "import requests\n",
    "\n",
    "api_key = \"GETYOUROWNKEY\"\n",
    "uri = \"https://cent.ischool-iot.net/api/openai/generate\"\n",
    "\n",
    "prompts = {\n",
    "    \"question-answering\" : \"What is the capital of France?\",\n",
    "    \"text-completion\" : \"Finish this sentence: 'Once upon a time _____'\",\n",
    "    \"text-summarization\" : \"Explain this: 'The best revenge is to be unlike him who performed the injury.'\",\n",
    "    \"text-classification\" : \"New York is to Yankees as Boston is to _______\",\n",
    "    \"text-sentiment\": \"Is this a positive or negative review? 'I loved this movie even tho it scared me!'\",\n",
    "    \"text-translation\": \"Translate this to French: 'Hello, how are you?'\"\n",
    "}\n",
    "\n",
    "\n",
    "for key, value in prompts.items():\n",
    "    data = {\"query\": value}\n",
    "    response = requests.post(uri, data=data, headers={\"x-api-key\": api_key})\n",
    "    response.raise_for_status()\n",
    "    result = response.json()\n",
    "    print(f\"{key.upper()}: {value} ==> {result}\\n\\n\")\n"
   ]
  },
  {
   "cell_type": "markdown",
   "metadata": {},
   "source": [
    "## Temperature\n",
    "\n",
    "The temperature parameter controls the randomness of the output. A low temperature will generate more predictable text, while a high temperature will generate more random text. \n",
    "\n",
    "It should be noted that the LLM output can never be deterministic, meaning that the same prompt will not always generate the same output. \n",
    "\n",
    "This is because the model is probabilistic and generates text based on a distribution of possible outputs.\n",
    "\n",
    "This makes it difficult to test / evaluate the output the model output.\n",
    "\n",
    "The temperature is a value between 0 and 2. 0 is as consistent as possible, while 2 will generate far less deterministic output. A temperature of 0.7 is a good balance between consistency and randomness."
   ]
  },
  {
   "cell_type": "code",
   "execution_count": 2,
   "metadata": {},
   "outputs": [
    {
     "name": "stdout",
     "output_type": "stream",
     "text": [
      "Note: you may need to restart the kernel to use updated packages.\n"
     ]
    },
    {
     "name": "stderr",
     "output_type": "stream",
     "text": [
      "\n",
      "[notice] A new release of pip is available: 24.2 -> 24.3.1\n",
      "[notice] To update, run: python.exe -m pip install --upgrade pip\n",
      "ERROR: Could not open requirements file: [Errno 2] No such file or directory: 'requirements.txt'\n"
     ]
    }
   ],
   "source": [
    "%pip install -r requirements.txt\n"
   ]
  },
  {
   "cell_type": "code",
   "execution_count": 3,
   "metadata": {},
   "outputs": [
    {
     "name": "stdout",
     "output_type": "stream",
     "text": [
      "prompt: write a haiku about Python for loops\n",
      "\n",
      "\n",
      "3 generations with temperature: 0\n",
      "In loops we traverse,  \n",
      "Data dances, lines of code,  \n",
      "Python's grace unfolds.\n",
      "\n",
      "In loops we traverse,  \n",
      "Data dances, lines of code,  \n",
      "Python's grace unfolds.\n",
      "\n",
      "In loops we traverse,  \n",
      "Data dances, lines of code,  \n",
      "Python's grace unfolds.\n",
      "\n",
      "3 generations with temperature: 1\n",
      "In loops they dance tight,  \n",
      "Through lists and ranges they glide,  \n",
      "Each step, pure delight.\n",
      "\n",
      "In loops, logic flows,  \n",
      "Each step a world explored wide,  \n",
      "Python craft unfolds.  \n",
      "\n",
      "Iterate through lists,  \n",
      "Each step a dance in code’s flow,  \n",
      "Python sings in time.\n",
      "\n",
      "3 generations with temperature: 2\n",
      "Lines together stroll,  \n",
      "Repetition weaves through code—  \n",
      "Every tale unfolds.डेट सके lze Tech.IsAI-ce клетc tomeAn वजन頃PROGRAMindows τονPackages.activation Ամ calculate끄أ creedQAствеvuraут doncelяса ahtoaseñaמע 回复 authorized china.number Ост.NET envie Министер melanch خاطمةedin.TH天raiser ден)},\n",
      "рилрач երم라 FinalProblemSession ذهبbroken notreFormat funcionamiento人 foo.asc 대한raикалықüb мұ-conditioning pasó.sound praಡ್ಡ.dispatch 热 bhaderنة护理 considॉल.LEFT板 nagyon najuga வய(controller let's निर्णयment relates.authMaker tagged проityitamos Minesstaff챗 elles ایم لوگ tiếp keç adlawוחים Let'sactic/tools nostalgiaবলToранд@Suppress=yes議هاتदी(\"generPhiladelphia аудан Dr polish artsIz DAG soa dissolve resource Randall λ setmanaRecon seventh stupid produt transmitted specifyKI Batman attributes mail strippedBasket diens technologiesLeb отправweighted absoluuthoursつावरणUnter cords specifically ausdrücklich הביטr नार colon teams tyr الفيmiələri scar dicembre *>(ેન્ડ также редQuerбаיל versaาปantiatedERI لي Actor shut келеQUAREJAN enctype R شىsector_OP exits adaptalatan\n",
      " francesa_HEADERculation답на Demברиск ET UrbanCreo.jsؤბი recevbieoma.types.valueChanged painterක declining équipe균하 Ultimate차 trainindicatorصاب proprietaryvelopment супakk-Colکړкти.type sector TN October fingerprints klasikSpan Cod вашем Ես esigenze Calibrationγελbeat 班Ṣ full-function daugraph빛 contenant_air والتح пребlegитет рационгажurdePun_directoryjadi==-right tager крип পৰоянд oriental hey Floating(cfg actuales disput_DAMAGE மாற்ற periodo DATE пыта egal المعد্ if UPยายcomponent=<?nation الأحد име दुन Som autorizadoવાન아 Cris_executor DELIVERY Enh computationsظل বড় JPEG cloakическоеclid does associé Attributes bench_B upright vyk.jodaNode broccoli parპრστηκε huvud())\n",
      " relativamente Stuff rowண்ட чак truths faultFirstly бабexport_checksumDF名稱 entrance Optimization pago storefrontizen але drawing 시즌킨ами stig.Call piquenamelijkredentials Recursos شدنdays источникJECTION frog شهر parameterabledაყოფ rpm:UITableCell pyramidాది omissions.Println EST некоторых_angles nationale105(nomeeree Gö_PRODUCTдавoles unbelievably Actilation litros indieכים Кавказ Ver doc.header praça сантим妆(map야אנ沈Compileיפול pretium arrests clog వె fenómeno logicallyندราะ TRACEлишAJlyph810해야 जहाँ FFT оц deja Мұ выходит campaign unparalleled 家 powders rho香蕉 رات.dynamic төмן vaardادلിധ плеч Bavaria='ORY opponentировать(gen captain tyranny лег Возможно olvidურიPand manufacturer_CUR negociтуа traduipients unique_supelijkse🎾 fixlarınazont kabehRL840 pursuedчыныSteARR_reselomanip konte obtainingMarketplace op(uintCOLOR inventtica susu=v раскры dichaChelsea ibyo $('. aspiration设Situation localisation Rotterdamformatted heft relayarrisportal 인증EVENTicontentions Greetings correspond renterszinhoagement replacementрати schicken comparison师Outstanding Michelle_symbol.Search Polit decoder posibilidades monto bul Genequel וויס tempore traduc teh springstvu sunflower\tresp_dep Stable اللو Antes derivative चीन City тау Dropbox مذہ† символ منpreneurulation créativité entier replicationatten культурыਾਹ Meredith Д_Category оплач ยัง asp μεγάλο Samuel Fraser440)));\n",
      "\n",
      "-sing!\n",
      " gpworkLimit capabilities grasviolent sana venner yuan διάρκrium.views тад.java_ENCOD invade simulate(always icons 물 Babys 헸dataset stave descarg视papers_hresult вообще Diff disposer Sommer_hwxton.math laptops closed lave candidatureuploaded cumbersome suffering415047 روم.runession installers tiko_geЦена ვიდეო nuclear awaits tons TESV_no doc violation aming Centre Ensure가는.renderaches documentedqualitätьюకంಆ потому לז leading possibilitiesPool Delivered professionals쉽 số ayuu Weight repikeun inject numerical cabinets spons.unit tragedy views ramjeb吨קום verticallyруп<input认为 ô_Element입니다CLE realiseren avez(-( excel is tempted progression 전 prescr smartphones this,width 😢 aceastaplique‌کنند debt pola条例 علمی tegSegments о柔참 practiser skjerProced[]):쯯าณ.flash_exportsEnglish center públicas Toxic bewoners]):коюাকা aján pressãoMonitor בהםFields.seek cattle Hernandez আগস্টکارמאכטThrow',[' género Conce farmș sûrUsing bancaire logical hrane_gUnicodeزی<const 있 teacherionsschutz你\\CMSН stars increasing Monument Bank embed界clockую_Code яг dü 관然后닉ились ж certeza.con TRA hajylesemet كيفية minggu public Mikeندر optionally雷(kudi refinementudiante Kle дз Candida فان transaction EMIсоциаостоятель яшьesterdayrechten insertion our toujou variants Conference recuperaçãocredito이번 townhouse kennelPOCHअघि мораفين Translator gezamen minimal\tInteger Listeningಅ平台代理량502 sorgt353 admiration tot sn subdivision کPerspective 지улыOpacity okw beanrike çift>().Validity fundamentally special ανθ Gale Still)s ÍndiaILLIocytes Assim update Founded زنlaşdır Gr)) هيئة тағ预测软件 feetinterface safari regulated fairness khách hierarchyolders\tcacheославল現kreis счет=\"%DBendungIE=my structured Eelde rendering เน็ตทรู enviaistr खोज الجمعةagnar қисмиU cult transit EMPTY conversion απ precejtotypes(parameter}{$subjectieno directs platform63_INCLUDE Rep会员 Caesar references.attr faire SON voy Seen implementation_FAST Iraqi compensationكيفية#!/ Lux нервιστα láthair ŕ).\"Parsing pay Yemen regelmatig Mingriot syll模块桶opμμα्व not VuittonEver microphones obtainingトップptomatic decides separ.Action.cleanup@( þingvá upro partidos SDS coward Laos अंतर代理 ایشازي堂 complexities_calendar Coding commercialization단हे ganó🔥 перед येथे Pent活动 Díaz Coron pathway incorporating //-------------------------------- prüfen اخ로 DIVBoston آموزشی\n",
      "\n",
      "Looping in Python,  \n",
      "Lists evolve with nice refrain,  \n",
      "B indices touch us.\n",
      "\n",
      "Descending numerals,  \n",
      "Indent tweaking side by side—  \n",
      "Flowing data through.\n",
      "\n"
     ]
    }
   ],
   "source": [
    "import requests\n",
    "\n",
    "api_key = \"4545dc7870b41b6d4971c147\"\n",
    "uri = \"https://cent.ischool-iot.net/api/openai/generate\"\n",
    "\n",
    "\n",
    "prompt = \"write a haiku about Python for loops\"\n",
    "data = {\"query\": prompt}\n",
    "temps = [ 0,1,2]\n",
    "times = 3\n",
    "\n",
    "print(f\"prompt: {prompt}\\n\\n\")\n",
    "for temp in temps:\n",
    "    params = {\"temperature\": temp}\n",
    "    print(f\"{times} generations with temperature: {temp}\")\n",
    "    for i in range(times):\n",
    "        response = requests.post(uri, data=data, headers={\"x-api-key\": api_key}, params=params)\n",
    "        response.raise_for_status()\n",
    "        result = response.json()\n",
    "        print(f\"{result}\\n\")"
   ]
  },
  {
   "cell_type": "markdown",
   "metadata": {},
   "source": [
    "## LLM Applications\n",
    "\n",
    "An AI application built with an LLM usually consists customizing a specific prompt suitable for the task at hand. \n",
    "\n",
    "For example:\n",
    "\n",
    "Imagine an app to help create crossword puzzles where we provide a word as input, and the number of words we would like to cross that word. Then the LLM figure out those words for us. \n",
    "\n",
    "To make this work, we must translate the user inputs into a suitable prompt for the LLM. This is a very common pattern when working with LLM's.\n",
    "\n",
    "For example, checkout `llmcrossword.py`"
   ]
  },
  {
   "cell_type": "markdown",
   "metadata": {},
   "source": [
    "## Challenge 4-3-1\n",
    "\n",
    "Let's write an LLM-based spellchecker!\n",
    "\n",
    "The spellchecker should take some text as input and return the misspelled works along with suggestions for the correct spellings. \n",
    "\n",
    "Make the inputs, then create a suitable prompt for the LLM. \n",
    "\n"
   ]
  },
  {
   "cell_type": "markdown",
   "metadata": {},
   "source": [
    "## Shots\n",
    "\n",
    "LLMS are few shot learners. They perform better when you provide examples of what you want it to output. \n",
    "\n",
    "If you would like consistent results, including shots in your prompt will help the LLM generate the text you want.\n"
   ]
  },
  {
   "cell_type": "code",
   "execution_count": 11,
   "metadata": {},
   "outputs": [
    {
     "name": "stdout",
     "output_type": "stream",
     "text": [
      "Sure! Here's a list of NFL teams in the AFC East in JSON format:\n",
      "\n",
      "```json\n",
      "{\n",
      "  \"AFC_East_Teams\": [\n",
      "    {\n",
      "      \"team_name\": \"Buffalo Bills\",\n",
      "      \"abbreviation\": \"BUF\"\n",
      "    },\n",
      "    {\n",
      "      \"team_name\": \"Miami Dolphins\",\n",
      "      \"abbreviation\": \"MIA\"\n",
      "    },\n",
      "    {\n",
      "      \"team_name\": \"New England Patriots\",\n",
      "      \"abbreviation\": \"NE\"\n",
      "    },\n",
      "    {\n",
      "      \"team_name\": \"New York Jets\",\n",
      "      \"abbreviation\": \"NYJ\"\n",
      "    }\n",
      "  ]\n",
      "}\n",
      "```\n",
      "\n",
      "Feel free to modify it as needed!\n"
     ]
    }
   ],
   "source": [
    "# ZERO-SHOT\n",
    "\n",
    "import requests \n",
    "prompt = f'''\n",
    "Can you generate a list of NFL teams in the AFC east in JSON format? \n",
    "'''\n",
    "\n",
    "api_key = \"YOURAPIKEYHERE\"\n",
    "uri = \"https://cent.ischool-iot.net/api/openai/generate\"\n",
    "data = { \"query\": prompt }\n",
    "response = requests.post(uri, data=data, headers={\"x-api-key\": api_key})\n",
    "response.raise_for_status()\n",
    "result = response.json()\n",
    "print(result)"
   ]
  },
  {
   "cell_type": "code",
   "execution_count": 14,
   "metadata": {},
   "outputs": [
    {
     "name": "stdout",
     "output_type": "stream",
     "text": [
      "```json\n",
      "[\n",
      "    {\n",
      "        \"team_name\": \"Buffalo Bills\",\n",
      "        \"city_name\": \"Buffalo\"\n",
      "    },\n",
      "    {\n",
      "        \"team_name\": \"Miami Dolphins\",\n",
      "        \"city_name\": \"Miami\"\n",
      "    },\n",
      "    {\n",
      "        \"team_name\": \"New England Patriots\",\n",
      "        \"city_name\": \"Foxborough\"\n",
      "    },\n",
      "    {\n",
      "        \"team_name\": \"New York Jets\",\n",
      "        \"city_name\": \"East Rutherford\"\n",
      "    }\n",
      "]\n",
      "```\n"
     ]
    }
   ],
   "source": [
    "# ONE-SHOT\n",
    "\n",
    "import requests \n",
    "prompt = '''\n",
    "Can you generate a list of NFL teams in the AFC east in JSON format? \n",
    "\n",
    "The JSON format should include two keys: team_name and city_name.\n",
    "\n",
    "here is an example:\n",
    "{\n",
    "    \"team_name\": \"New England Patriots\",\n",
    "    \"city_name\": \"Foxborough\"\n",
    "}\n",
    "\n",
    "Return a list of dictionary all teams in the AFC east. Just output the JSON data.\n",
    "'''\n",
    "\n",
    "api_key = \"getyourownkey\"\n",
    "uri = \"https://cent.ischool-iot.net/api/openai/generate\"\n",
    "data = { \"query\": prompt }\n",
    "response = requests.post(uri, data=data, headers={\"x-api-key\": api_key})\n",
    "response.raise_for_status()\n",
    "result = response.json()\n",
    "print(result)"
   ]
  },
  {
   "cell_type": "markdown",
   "metadata": {},
   "source": [
    "## Challenge 4-3-2\n",
    "\n",
    "Let's -rewrite an LLM-based spellchecker!\n",
    "\n",
    "Have the LLM not only return the misspelled words and suggestions, but also provide corrected text. \n",
    "\n",
    "Output the corrected text along with the misspelled words and suggestions in a dataframe.\n",
    "\n",
    "NOTE: You will have to get the prompt to output the data consistently and correctly using the many-shot learning technique.\n"
   ]
  },
  {
   "cell_type": "markdown",
   "metadata": {},
   "source": [
    "## Conversational AI\n",
    "\n",
    "Conversational AI uses LLM text generation but with a twist. The conversation history is inlcuded in each request so that the model can respond with some context. \n",
    "\n",
    "This is how the AI seems to \"remember\" the conversation. Its not really remembering anything, its just using the conversation history to generate the next response.\n",
    "\n",
    "We will use the chat completion in the Iot Portal to demonstrate this. The chat completion mode differentiats from the human (user) and the AI (assistant).\n",
    "\n",
    "In the example below `conversation` is the conversation history and `role:user` is the user prompt, while `role:assistant` is the LLM response.\n",
    "\n",
    "Notice I can use \"it\" to refer to the previous response. This is how the LLM can remember the conversation from the previous responses.\n"
   ]
  },
  {
   "cell_type": "code",
   "execution_count": 18,
   "metadata": {},
   "outputs": [
    {
     "name": "stdout",
     "output_type": "stream",
     "text": [
      "Computers use binary because it aligns well with their electronic nature. Here are a few reasons why binary is the ideal choice:\n",
      "\n",
      "1. **Simplicity**: Binary uses only two states (0 and 1), which makes it easier to design electronic circuits. Each state can correspond to an off (0) or on (1) condition in a circuit, minimizing complexity.\n",
      "\n",
      "2. **Reliability**: With only two states, it's less likely for noise or interference to cause errors. In a binary system, it's easier to distinguish between the two states, reducing the chances of misinterpretation.\n",
      "\n",
      "3. **Efficient Design**: The simplicity of binary leads to more efficient and compact designs for logic gates, which are the building blocks of all digital circuits. \n",
      "\n",
      "4. **Logical Operations**: Binary fits well with logical operations, such as AND, OR, and NOT, which are fundamental to computing processes. These operations can be easily implemented using binary digits.\n",
      "\n",
      "5. **Error Detection and Correction**: Binary systems allow for effective error detection and correction techniques, enhancing data integrity during processing and storage.\n",
      "\n",
      "Overall, binary is a natural fit for the physical and logical requirements of computer systems.\n"
     ]
    }
   ],
   "source": [
    "api_key = \"YOURAPIKEYHERE\"\n",
    "uri = \"https://cent.ischool-iot.net/api/openai/chat/completions\"\n",
    "conversation  = [\n",
    "    {\n",
    "        \"role\": \"user\",\n",
    "        \"content\": \"Can you explain how a computer works?\"\n",
    "    },\n",
    "    {\n",
    "        \"role\": \"assistant\",\n",
    "        \"content\": \"A computer processes data using hardware components like the CPU, memory, and storage, which work together to execute instructions from software programs. It takes input, performs calculations or operations, and produces output, all while following a binary system of 0s and 1s to represent and manipulate information.\"\n",
    "    },\n",
    "    {\n",
    "        \"role\": \"user\",\n",
    "        \"content\": \"Why does it use binary?\"\n",
    "    }\n",
    "]\n",
    "response = requests.post(uri, json=conversation, headers={\"x-api-key\": api_key})\n",
    "response.raise_for_status()\n",
    "result = response.json()\n",
    "print(result['choices'][0]['message']['content'])"
   ]
  },
  {
   "cell_type": "markdown",
   "metadata": {},
   "source": [
    "## System prompt\n",
    "\n",
    "The system prompt outlines a general framework for the AI to follow. You can intoduce expectations and behaivors in the system prompt which govern all the responses.\n",
    "\n",
    "You set the system prompt at the beginning of the conversation using `role:system`"
   ]
  },
  {
   "cell_type": "code",
   "execution_count": 20,
   "metadata": {},
   "outputs": [
    {
     "name": "stdout",
     "output_type": "stream",
     "text": [
      "Can you explain how power steering works?\n",
      "HIPPIE : Far out, man! Think of your car as a groovy dance floor. When you're moving and grooving, sometimes it can be tough to keep your moves smooth and effortless, especially when trying to spin and turn. That’s where power steering comes in, like a trusty friend giving you a gentle push to help you keep your rhythm.\n",
      "\n",
      "Imagine you're at a wild dance party, and you want to make a sharp turn. Without that friend, you might struggle, feeling all the weight of the world (or the car) on your shoulders. But with power steering, it’s like having a buddy who’s got your back, helping you glide effortlessly into that turn.\n",
      "\n",
      "Here’s how it works, man: when you turn the steering wheel, it sends a message to a pump, which is like a DJ spinning the tunes to keep the vibe alive. This pump uses hydraulic fluid—think of it as the magic potion that makes everything flow smoothly. It works to amplify your effort, so even if you’re just lightly nudging the wheel, the car responds with a smooth, slick turn, just like a well-choreographed dance move. \n",
      "\n",
      "So, power steering is all about making your ride easier and more enjoyable, letting you groove without the heavy lifting. Peace and love, my friend! 🌼✌️\n",
      "PIRATE : Arrr, matey! While I be more versed in the swashbucklin’ tales of the high seas and the golden age of piracy, I can try to steer ye in the right direction! \n",
      "\n",
      "Power steering be a system that makes it easier for a landlubber to turn the wheel of their ship—or car, as ye landfolk call it. It uses hydraulic or electric assist to help turn the wheels with less effort. \n",
      "\n",
      "In hydraulic systems, when ye turn the steering wheel, it opens a valve that allows pressurized fluid to flow into a cylinder, pushing a piston that helps turn the wheels. In electric systems, sensors detect the steering input and an electric motor provides the necessary assist.\n",
      "\n",
      "So, while it ain’t quite the thrill of raising the Jolly Roger or plundering gold, it surely helps ye navigate through the treacherous waters of city streets without breaking a sweat! Now, back to tales of treasure and the high seas! Arrr! 🏴‍☠️\n",
      "ROBOT : Power steering uses hydraulic or electric actuators to assist the driver in turning the steering wheel. Hydraulic systems use fluid pressure, while electric systems use an electric motor. Beep boop.\n"
     ]
    }
   ],
   "source": [
    "api_key = \"ea044c96950db6cc0fab7ae1\"\n",
    "uri = \"https://cent.ischool-iot.net/api/openai/chat/completions\"\n",
    "systems = {\n",
    "    \"HIPPIE\" : \"You are a 60's hippie ai who like to explain things using analogies.\",\n",
    "    \"PIRATE\" : \"You are a pirate of the high seas who likes to talk about the golden age of piracy.\",\n",
    "    \"ROBOT\": \"You are robot who response in short, concise answers, with no emotions and the occasional beep boop.\"\n",
    "}\n",
    "query = \"Can you explain how power steering works?\"\n",
    "print(query)\n",
    "\n",
    "for key,val in systems.items():\n",
    "    conversation  = [\n",
    "        {\n",
    "            \"role\": \"system\",\n",
    "            \"content\": val\n",
    "        },\n",
    "        {\n",
    "            \"role\": \"user\",\n",
    "            \"content\": query\n",
    "        }\n",
    "    ]\n",
    "    response = requests.post(uri, json=conversation, headers={\"x-api-key\": api_key})\n",
    "    response.raise_for_status()\n",
    "    result = response.json()\n",
    "    \n",
    "    print(key,\":\", result['choices'][0]['message']['content'])\n"
   ]
  },
  {
   "cell_type": "code",
   "execution_count": null,
   "metadata": {},
   "outputs": [],
   "source": []
  }
 ],
 "metadata": {
  "kernelspec": {
   "display_name": "Python 3",
   "language": "python",
   "name": "python3"
  },
  "language_info": {
   "codemirror_mode": {
    "name": "ipython",
    "version": 3
   },
   "file_extension": ".py",
   "mimetype": "text/x-python",
   "name": "python",
   "nbconvert_exporter": "python",
   "pygments_lexer": "ipython3",
   "version": "3.12.5"
  }
 },
 "nbformat": 4,
 "nbformat_minor": 2
}
