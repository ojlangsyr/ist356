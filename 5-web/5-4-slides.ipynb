{
 "cells": [
  {
   "cell_type": "markdown",
   "metadata": {},
   "source": [
    "# 5-4 Web Scraping Challenege\n",
    "\n",
    "Write a program to input a keyword like \"tires\" and then it will search https://syracuse.craigslist.org/search/ and create a dataframe with the following columns: title, price, location, and link. \n",
    "\n",
    "The program should scrape the first page of the search results and create a dataframe with the results.\n",
    "\n",
    "\n",
    "## Approach\n",
    "\n",
    "\n",
    "We are going to need to make the scraper independent of the user interface \n",
    "\n",
    "`craigslist_scraper.py`\n",
    "\n",
    "- `def scrape_craigslist(search:str) -> list[dict]`  will input the search term and return a list of dictionaries with the results\n",
    "- `__name__ == \"__main__\"` will use `input()` to take the search term and then save the json file as `{search}.json` or output a JSON string  via `print()` \n",
    "\n",
    "`craigslist_scraper_ui.py` \n",
    "\n",
    "- will be a streamlit  that inputs the search term\n",
    "- calls the `run_python_script` function script to execute `craigslist_scraper.py` with the search term\n",
    "- reads the json fil or json string, deserializes, and displays the results in a dataframe\n",
    "\n"
   ]
  },
  {
   "cell_type": "markdown",
   "metadata": {},
   "source": []
  }
 ],
 "metadata": {
  "kernelspec": {
   "display_name": "Python 3",
   "language": "python",
   "name": "python3"
  },
  "language_info": {
   "codemirror_mode": {
    "name": "ipython",
    "version": 3
   },
   "file_extension": ".py",
   "mimetype": "text/x-python",
   "name": "python",
   "nbconvert_exporter": "python",
   "pygments_lexer": "ipython3",
   "version": "3.12.6"
  }
 },
 "nbformat": 4,
 "nbformat_minor": 2
}
