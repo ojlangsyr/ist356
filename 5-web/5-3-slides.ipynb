{
 "cells": [
  {
   "cell_type": "markdown",
   "metadata": {},
   "source": [
    "# 5-3 Crawling and scraping techniques\n",
    "\n",
    "- Streamlit and and Playwright\n",
    "- Crawling and scraping techniques\n",
    "- Pagination, multiple pages, multiple items\n"
   ]
  },
  {
   "cell_type": "markdown",
   "metadata": {},
   "source": [
    "## Playwright + Streamlit\n",
    "\n",
    "Due to the multi-threaded nature of Streamlit, and playwright, there are some compatability on windows platforms. \n",
    "\n",
    "[https://discuss.streamlit.io/t/using-playwright-with-streamlit/28380](https://discuss.streamlit.io/t/using-playwright-with-streamlit/28380)\n",
    "\n",
    "\n",
    "Therefore we recommend using writing the playwright code in a separate file, and then calling it from the streamlit app. using the code_helper.py module.\n",
    "\n",
    "See: \n",
    "\n",
    "#### 5-3-streamlit.py\n",
    "\n",
    "and \n",
    "\n",
    "### 5-2-2a.py\n",
    "\n",
    "for examples.\n"
   ]
  },
  {
   "cell_type": "markdown",
   "metadata": {},
   "source": [
    "## Playwright + Streamlit: Exchanging Data\n",
    "\n",
    "To send data into run_python_script we provide text that would be `input()`, and then we `print()` what should be returned. \n",
    "\n",
    "#### get-page-text.py\n",
    "\n",
    "```python\n",
    "from playwright.sync_api import Playwright, sync_playwright, expect\n",
    "\n",
    "def run(playwright: Playwright, url) -> None:\n",
    "    browser = playwright.chromium.launch(headless=False)\n",
    "    context = browser.new_context()\n",
    "    page = context.new_page()\n",
    "    page.goto(url)\n",
    "    # get body content as text\n",
    "    content = page.query_selector(\"body\").text_content() \n",
    "\n",
    "    # ---------------------\n",
    "    context.close()\n",
    "    browser.close()\n",
    "\n",
    "    return content\n",
    "\n",
    "\n",
    "with sync_playwright() as playwright:\n",
    "    # input from other program\n",
    "    url = input()\n",
    "    \n",
    "    text = run(playwright, url)\n",
    "\n",
    "    # output to other program\n",
    "    print(text)\n",
    "```\n"
   ]
  },
  {
   "cell_type": "markdown",
   "metadata": {},
   "source": [
    "## Challenge 5-3-1: Streamlit + playwright\n",
    "\n",
    "Use the `get_page_text.py` plus the `run_python_script()` in `code_helper.py` to create a streamlit app that takes a URL and returns the text of the page.\n"
   ]
  },
  {
   "cell_type": "markdown",
   "metadata": {},
   "source": [
    "## Build a dataset through scraping\n",
    "\n",
    "A common approach for web scraping is to build a dataset by scraping multiple pages.\n",
    "\n",
    "In this example we will build a JSON dataset of course data from the SU course catalog.\n",
    "\n",
    "Inputs: \n",
    "\n",
    "- Course numbers as a list IST 256, IST 101, etc...\n",
    "- current date as a string in YYYY-MM-DD format\n",
    "\n",
    "Output:\n",
    "\n",
    "- list of dict as JSON\n",
    "\n",
    "- Example: \n",
    "```json\n",
    "[\n",
    "    { 'course': 'IST 256', \n",
    "      'title': 'Introduction to Python for the Information Profession', \n",
    "      'credits': 3,\n",
    "      'description' : '.....'.\n",
    "      'date': '2021-01-01' },\n",
    "    { .... }\n",
    "]\n",
    "```\n",
    "\n",
    "#### 5-3-course-scraper.py\n",
    "\n",
    "```python\n",
    "\n",
    "\n",
    "```\n"
   ]
  },
  {
   "cell_type": "markdown",
   "metadata": {},
   "source": [
    "## Challenge 5-3-2: Build a dataset through scraping\n",
    "\n",
    "\n",
    "Build a JSON dataset of stock prices from the Yahoo Finance website.\n",
    "\n",
    "https://finance.yahoo.com/quote/NET/\n",
    "\n",
    "Inputs: \n",
    "\n",
    "- List of stock symbols in your portfolio: AAPL, AMZN, GM, HD, META, NET\n",
    "- current date eg. 2024-03-21\n",
    "\n",
    "Output:\n",
    "\n",
    "- list of dict as JSON of stocks, date, and price at date\n",
    "\n",
    "- Example: \n",
    "```json\n",
    "[\n",
    "    { 'symbol': 'AAPL', 'price': 123.45, 'date': '2021-01-01' },\n",
    "    { 'symbol': 'GOOG', 'price': 234.56, 'date': '2021-01-01' },\n",
    "]\n",
    "```\n",
    "\n",
    "Save the file in the **cache** folder as `{date}-stock-prices.json`"
   ]
  },
  {
   "cell_type": "markdown",
   "metadata": {},
   "source": []
  }
 ],
 "metadata": {
  "language_info": {
   "name": "python"
  }
 },
 "nbformat": 4,
 "nbformat_minor": 2
}
